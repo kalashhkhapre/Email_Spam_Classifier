{
 "cells": [
  {
   "cell_type": "code",
   "execution_count": 10,
   "id": "74920234-44c7-4c3c-b9c8-3d748012a722",
   "metadata": {},
   "outputs": [
    {
     "name": "stderr",
     "output_type": "stream",
     "text": [
      "[nltk_data] Downloading package stopwords to\n",
      "[nltk_data]     C:\\Users\\RAVI\\AppData\\Roaming\\nltk_data...\n",
      "[nltk_data]   Package stopwords is already up-to-date!\n"
     ]
    },
    {
     "data": {
      "text/plain": [
       "True"
      ]
     },
     "execution_count": 10,
     "metadata": {},
     "output_type": "execute_result"
    }
   ],
   "source": [
    "import pickle\n",
    "import numpy as np\n",
    "import pandas as pd\n",
    "import seaborn as sns\n",
    "sns.set_style(\"white\")\n",
    "import matplotlib.pyplot as plt\n",
    "import string\n",
    "from pickle import dump\n",
    "from sklearn.feature_extraction.text import TfidfVectorizer\n",
    "from sklearn.model_selection import train_test_split\n",
    "from sklearn.naive_bayes import MultinomialNB\n",
    "from sklearn.metrics import classification_report, confusion_matrix, accuracy_score\n",
    "import nltk\n",
    "from nltk.corpus import stopwords\n",
    "import warnings\n",
    "warnings.simplefilter(action='ignore', category=FutureWarning)\n",
    "nltk.download('stopwords')"
   ]
  },
  {
   "cell_type": "code",
   "execution_count": 11,
   "id": "c3f15ee8-338a-4b3c-934e-2e3a94d7ae49",
   "metadata": {},
   "outputs": [
    {
     "data": {
      "text/plain": [
       "(5728, 2)"
      ]
     },
     "execution_count": 11,
     "metadata": {},
     "output_type": "execute_result"
    }
   ],
   "source": [
    "# Load the dataset\n",
    "dataset = pd.read_csv('dataset/emails.csv')\n",
    "dataset.shape"
   ]
  },
  {
   "cell_type": "code",
   "execution_count": 12,
   "id": "c455bd83-59d5-4f2e-a961-3428ba437976",
   "metadata": {},
   "outputs": [
    {
     "data": {
      "text/html": [
       "<div>\n",
       "<style scoped>\n",
       "    .dataframe tbody tr th:only-of-type {\n",
       "        vertical-align: middle;\n",
       "    }\n",
       "\n",
       "    .dataframe tbody tr th {\n",
       "        vertical-align: top;\n",
       "    }\n",
       "\n",
       "    .dataframe thead th {\n",
       "        text-align: right;\n",
       "    }\n",
       "</style>\n",
       "<table border=\"1\" class=\"dataframe\">\n",
       "  <thead>\n",
       "    <tr style=\"text-align: right;\">\n",
       "      <th></th>\n",
       "      <th>text</th>\n",
       "      <th>spam</th>\n",
       "    </tr>\n",
       "  </thead>\n",
       "  <tbody>\n",
       "    <tr>\n",
       "      <th>0</th>\n",
       "      <td>Subject: naturally irresistible your corporate...</td>\n",
       "      <td>1</td>\n",
       "    </tr>\n",
       "    <tr>\n",
       "      <th>1</th>\n",
       "      <td>Subject: the stock trading gunslinger  fanny i...</td>\n",
       "      <td>1</td>\n",
       "    </tr>\n",
       "    <tr>\n",
       "      <th>2</th>\n",
       "      <td>Subject: unbelievable new homes made easy  im ...</td>\n",
       "      <td>1</td>\n",
       "    </tr>\n",
       "    <tr>\n",
       "      <th>3</th>\n",
       "      <td>Subject: 4 color printing special  request add...</td>\n",
       "      <td>1</td>\n",
       "    </tr>\n",
       "    <tr>\n",
       "      <th>4</th>\n",
       "      <td>Subject: do not have money , get software cds ...</td>\n",
       "      <td>1</td>\n",
       "    </tr>\n",
       "  </tbody>\n",
       "</table>\n",
       "</div>"
      ],
      "text/plain": [
       "                                                text  spam\n",
       "0  Subject: naturally irresistible your corporate...     1\n",
       "1  Subject: the stock trading gunslinger  fanny i...     1\n",
       "2  Subject: unbelievable new homes made easy  im ...     1\n",
       "3  Subject: 4 color printing special  request add...     1\n",
       "4  Subject: do not have money , get software cds ...     1"
      ]
     },
     "execution_count": 12,
     "metadata": {},
     "output_type": "execute_result"
    }
   ],
   "source": [
    "dataset.head() "
   ]
  },
  {
   "cell_type": "code",
   "execution_count": 13,
   "id": "e91951c9-950d-4963-a55d-48f51622c480",
   "metadata": {},
   "outputs": [
    {
     "name": "stdout",
     "output_type": "stream",
     "text": [
      "<class 'pandas.core.frame.DataFrame'>\n",
      "RangeIndex: 5728 entries, 0 to 5727\n",
      "Data columns (total 2 columns):\n",
      " #   Column  Non-Null Count  Dtype \n",
      "---  ------  --------------  ----- \n",
      " 0   text    5728 non-null   object\n",
      " 1   spam    5728 non-null   int64 \n",
      "dtypes: int64(1), object(1)\n",
      "memory usage: 89.6+ KB\n"
     ]
    }
   ],
   "source": [
    "# Show dataset info\n",
    "dataset.info()"
   ]
  },
  {
   "cell_type": "code",
   "execution_count": 14,
   "id": "3092552a-0502-43ac-a5d7-0a0c6309ad2f",
   "metadata": {},
   "outputs": [
    {
     "data": {
      "text/html": [
       "<div>\n",
       "<style scoped>\n",
       "    .dataframe tbody tr th:only-of-type {\n",
       "        vertical-align: middle;\n",
       "    }\n",
       "\n",
       "    .dataframe tbody tr th {\n",
       "        vertical-align: top;\n",
       "    }\n",
       "\n",
       "    .dataframe thead th {\n",
       "        text-align: right;\n",
       "    }\n",
       "</style>\n",
       "<table border=\"1\" class=\"dataframe\">\n",
       "  <thead>\n",
       "    <tr style=\"text-align: right;\">\n",
       "      <th></th>\n",
       "      <th>spam</th>\n",
       "    </tr>\n",
       "  </thead>\n",
       "  <tbody>\n",
       "    <tr>\n",
       "      <th>count</th>\n",
       "      <td>5728.000000</td>\n",
       "    </tr>\n",
       "    <tr>\n",
       "      <th>mean</th>\n",
       "      <td>0.238827</td>\n",
       "    </tr>\n",
       "    <tr>\n",
       "      <th>std</th>\n",
       "      <td>0.426404</td>\n",
       "    </tr>\n",
       "    <tr>\n",
       "      <th>min</th>\n",
       "      <td>0.000000</td>\n",
       "    </tr>\n",
       "    <tr>\n",
       "      <th>25%</th>\n",
       "      <td>0.000000</td>\n",
       "    </tr>\n",
       "    <tr>\n",
       "      <th>50%</th>\n",
       "      <td>0.000000</td>\n",
       "    </tr>\n",
       "    <tr>\n",
       "      <th>75%</th>\n",
       "      <td>0.000000</td>\n",
       "    </tr>\n",
       "    <tr>\n",
       "      <th>max</th>\n",
       "      <td>1.000000</td>\n",
       "    </tr>\n",
       "  </tbody>\n",
       "</table>\n",
       "</div>"
      ],
      "text/plain": [
       "              spam\n",
       "count  5728.000000\n",
       "mean      0.238827\n",
       "std       0.426404\n",
       "min       0.000000\n",
       "25%       0.000000\n",
       "50%       0.000000\n",
       "75%       0.000000\n",
       "max       1.000000"
      ]
     },
     "execution_count": 14,
     "metadata": {},
     "output_type": "execute_result"
    }
   ],
   "source": [
    "# Show dataset statistics\n",
    "dataset.describe()"
   ]
  },
  {
   "cell_type": "code",
   "execution_count": 15,
   "id": "d13086fd-ff5e-4a4b-baaa-194c41afa6b2",
   "metadata": {},
   "outputs": [
    {
     "data": {
      "image/png": "[encoded data removed]",
      "text/plain": [
       "<Figure size 640x480 with 1 Axes>"
      ]
     },
     "metadata": {},
     "output_type": "display_data"
    }
   ],
   "source": [
    "# Visualize spam frequencies\n",
    "plt.figure(dpi=100)\n",
    "sns.countplot(x='spam', data=dataset)\n",
    "plt.title(\"Spam Frequencies\")\n",
    "plt.show()"
   ]
  },
  {
   "cell_type": "code",
   "execution_count": 16,
   "id": "5d3ff851-e94b-4ce7-9ec2-51541adfbca6",
   "metadata": {},
   "outputs": [
    {
     "data": {
      "text/plain": [
       "text    0\n",
       "spam    0\n",
       "dtype: int64"
      ]
     },
     "execution_count": 16,
     "metadata": {},
     "output_type": "execute_result"
    }
   ],
   "source": [
    "# Check for missing data for each column \n",
    "dataset.isnull().sum()"
   ]
  },
  {
   "cell_type": "code",
   "execution_count": 17,
   "id": "6e1fd63a-9645-45a4-b2c6-5e0abe5bcd40",
   "metadata": {},
   "outputs": [],
   "source": [
    "# Check for duplicates and remove them \n",
    "dataset.drop_duplicates(inplace=True)"
   ]
  },
  {
   "cell_type": "code",
   "execution_count": 18,
   "id": "f4ffd9be-149c-4861-bfcb-63435fb0f3d6",
   "metadata": {},
   "outputs": [],
   "source": [
    "# Cleaning data from punctuation and stopwords and then tokenizing it into words (tokens)\n",
    "def process(text):\n",
    "    nopunc = [char for char in text if char not in string.punctuation]\n",
    "    nopunc = ''.join(nopunc)\n",
    "    clean = [word for word in nopunc.split() if word.lower() not in stopwords.words('english')]\n",
    "    return clean"
   ]
  },
  {
   "cell_type": "code",
   "execution_count": 19,
   "id": "ec10d8a0-a44f-468b-a15e-7c1adb2330ec",
   "metadata": {},
   "outputs": [],
   "source": [
    "# TfidfVectorizer\n",
    "tfidf_vectorizer = TfidfVectorizer(analyzer=process)\n",
    "message = tfidf_vectorizer.fit_transform(dataset['text'])"
   ]
  },
  {
   "cell_type": "code",
   "execution_count": 20,
   "id": "d0b088eb-d3e7-4f01-9492-5a39b62ff657",
   "metadata": {},
   "outputs": [],
   "source": [
    "# Save the vectorizer\n",
    "dump(tfidf_vectorizer, open(\"vectorizer.pkl\", \"wb\"))"
   ]
  },
  {
   "cell_type": "code",
   "execution_count": 21,
   "id": "f4d9dfe0-044a-47df-bcc4-30abc4e167a6",
   "metadata": {},
   "outputs": [],
   "source": [
    "# Split the data into training and testing sets\n",
    "X_train, X_test, y_train, y_test = train_test_split(message, dataset['spam'], test_size=0.20, random_state=0)"
   ]
  },
  {
   "cell_type": "code",
   "execution_count": 22,
   "id": "ed06e1e2-6208-490f-ac66-4c16ba0a109c",
   "metadata": {},
   "outputs": [],
   "source": [
    "# Model creation\n",
    "NB_model = MultinomialNB()"
   ]
  },
  {
   "cell_type": "code",
   "execution_count": 23,
   "id": "d59f69ab-3033-415b-99bc-7e1206e3f13c",
   "metadata": {},
   "outputs": [
    {
     "data": {
      "text/html": [
       "<style>#sk-container-id-1 {\n",
       "  /* Definition of color scheme common for light and dark mode */\n",
       "  --sklearn-color-text: #000;\n",
       "  --sklearn-color-text-muted: #666;\n",
       "  --sklearn-color-line: gray;\n",
       "  /* Definition of color scheme for unfitted estimators */\n",
       "  --sklearn-color-unfitted-level-0: #fff5e6;\n",
       "  --sklearn-color-unfitted-level-1: #f6e4d2;\n",
       "  --sklearn-color-unfitted-level-2: #ffe0b3;\n",
       "  --sklearn-color-unfitted-level-3: chocolate;\n",
       "  /* Definition of color scheme for fitted estimators */\n",
       "  --sklearn-color-fitted-level-0: #f0f8ff;\n",
       "  --sklearn-color-fitted-level-1: #d4ebff;\n",
       "  --sklearn-color-fitted-level-2: #b3dbfd;\n",
       "  --sklearn-color-fitted-level-3: cornflowerblue;\n",
       "\n",
       "  /* Specific color for light theme */\n",
       "  --sklearn-color-text-on-default-background: var(--sg-text-color, var(--theme-code-foreground, var(--jp-content-font-color1, black)));\n",
       "  --sklearn-color-background: var(--sg-background-color, var(--theme-background, var(--jp-layout-color0, white)));\n",
       "  --sklearn-color-border-box: var(--sg-text-color, var(--theme-code-foreground, var(--jp-content-font-color1, black)));\n",
       "  --sklearn-color-icon: #696969;\n",
       "\n",
       "  @media (prefers-color-scheme: dark) {\n",
       "    /* Redefinition of color scheme for dark theme */\n",
       "    --sklearn-color-text-on-default-background: var(--sg-text-color, var(--theme-code-foreground, var(--jp-content-font-color1, white)));\n",
       "    --sklearn-color-background: var(--sg-background-color, var(--theme-background, var(--jp-layout-color0, #111)));\n",
       "    --sklearn-color-border-box: var(--sg-text-color, var(--theme-code-foreground, var(--jp-content-font-color1, white)));\n",
       "    --sklearn-color-icon: #878787;\n",
       "  }\n",
       "}\n",
       "\n",
       "#sk-container-id-1 {\n",
       "  color: var(--sklearn-color-text);\n",
       "}\n",
       "\n",
       "#sk-container-id-1 pre {\n",
       "  padding: 0;\n",
       "}\n",
       "\n",
       "#sk-container-id-1 input.sk-hidden--visually {\n",
       "  border: 0;\n",
       "  clip: rect(1px 1px 1px 1px);\n",
       "  clip: rect(1px, 1px, 1px, 1px);\n",
       "  height: 1px;\n",
       "  margin: -1px;\n",
       "  overflow: hidden;\n",
       "  padding: 0;\n",
       "  position: absolute;\n",
       "  width: 1px;\n",
       "}\n",
       "\n",
       "#sk-container-id-1 div.sk-dashed-wrapped {\n",
       "  border: 1px dashed var(--sklearn-color-line);\n",
       "  margin: 0 0.4em 0.5em 0.4em;\n",
       "  box-sizing: border-box;\n",
       "  padding-bottom: 0.4em;\n",
       "  background-color: var(--sklearn-color-background);\n",
       "}\n",
       "\n",
       "#sk-container-id-1 div.sk-container {\n",
       "  /* jupyter's `normalize.less` sets `[hidden] { display: none; }`\n",
       "     but bootstrap.min.css set `[hidden] { display: none !important; }`\n",
       "     so we also need the `!important` here to be able to override the\n",
       "     default hidden behavior on the sphinx rendered scikit-learn.org.\n",
       "     See: https://github.com/scikit-learn/scikit-learn/issues/21755 */\n",
       "  display: inline-block !important;\n",
       "  position: relative;\n",
       "}\n",
       "\n",
       "#sk-container-id-1 div.sk-text-repr-fallback {\n",
       "  display: none;\n",
       "}\n",
       "\n",
       "div.sk-parallel-item,\n",
       "div.sk-serial,\n",
       "div.sk-item {\n",
       "  /* draw centered vertical line to link estimators */\n",
       "  background-image: linear-gradient(var(--sklearn-color-text-on-default-background), var(--sklearn-color-text-on-default-background));\n",
       "  background-size: 2px 100%;\n",
       "  background-repeat: no-repeat;\n",
       "  background-position: center center;\n",
       "}\n",
       "\n",
       "/* Parallel-specific style estimator block */\n",
       "\n",
       "#sk-container-id-1 div.sk-parallel-item::after {\n",
       "  content: \"\";\n",
       "  width: 100%;\n",
       "  border-bottom: 2px solid var(--sklearn-color-text-on-default-background);\n",
       "  flex-grow: 1;\n",
       "}\n",
       "\n",
       "#sk-container-id-1 div.sk-parallel {\n",
       "  display: flex;\n",
       "  align-items: stretch;\n",
       "  justify-content: center;\n",
       "  background-color: var(--sklearn-color-background);\n",
       "  position: relative;\n",
       "}\n",
       "\n",
       "#sk-container-id-1 div.sk-parallel-item {\n",
       "  display: flex;\n",
       "  flex-direction: column;\n",
       "}\n",
       "\n",
       "#sk-container-id-1 div.sk-parallel-item:first-child::after {\n",
       "  align-self: flex-end;\n",
       "  width: 50%;\n",
       "}\n",
       "\n",
       "#sk-container-id-1 div.sk-parallel-item:last-child::after {\n",
       "  align-self: flex-start;\n",
       "  width: 50%;\n",
       "}\n",
       "\n",
       "#sk-container-id-1 div.sk-parallel-item:only-child::after {\n",
       "  width: 0;\n",
       "}\n",
       "\n",
       "/* Serial-specific style estimator block */\n",
       "\n",
       "#sk-container-id-1 div.sk-serial {\n",
       "  display: flex;\n",
       "  flex-direction: column;\n",
       "  align-items: center;\n",
       "  background-color: var(--sklearn-color-background);\n",
       "  padding-right: 1em;\n",
       "  padding-left: 1em;\n",
       "}\n",
       "\n",
       "\n",
       "/* Toggleable style: style used for estimator/Pipeline/ColumnTransformer box that is\n",
       "clickable and can be expanded/collapsed.\n",
       "- Pipeline and ColumnTransformer use this feature and define the default style\n",
       "- Estimators will overwrite some part of the style using the `sk-estimator` class\n",
       "*/\n",
       "\n",
       "/* Pipeline and ColumnTransformer style (default) */\n",
       "\n",
       "#sk-container-id-1 div.sk-toggleable {\n",
       "  /* Default theme specific background. It is overwritten whether we have a\n",
       "  specific estimator or a Pipeline/ColumnTransformer */\n",
       "  background-color: var(--sklearn-color-background);\n",
       "}\n",
       "\n",
       "/* Toggleable label */\n",
       "#sk-container-id-1 label.sk-toggleable__label {\n",
       "  cursor: pointer;\n",
       "  display: flex;\n",
       "  width: 100%;\n",
       "  margin-bottom: 0;\n",
       "  padding: 0.5em;\n",
       "  box-sizing: border-box;\n",
       "  text-align: center;\n",
       "  align-items: start;\n",
       "  justify-content: space-between;\n",
       "  gap: 0.5em;\n",
       "}\n",
       "\n",
       "#sk-container-id-1 label.sk-toggleable__label .caption {\n",
       "  font-size: 0.6rem;\n",
       "  font-weight: lighter;\n",
       "  color: var(--sklearn-color-text-muted);\n",
       "}\n",
       "\n",
       "#sk-container-id-1 label.sk-toggleable__label-arrow:before {\n",
       "  /* Arrow on the left of the label */\n",
       "  content: \"▸\";\n",
       "  float: left;\n",
       "  margin-right: 0.25em;\n",
       "  color: var(--sklearn-color-icon);\n",
       "}\n",
       "\n",
       "#sk-container-id-1 label.sk-toggleable__label-arrow:hover:before {\n",
       "  color: var(--sklearn-color-text);\n",
       "}\n",
       "\n",
       "/* Toggleable content - dropdown */\n",
       "\n",
       "#sk-container-id-1 div.sk-toggleable__content {\n",
       "  max-height: 0;\n",
       "  max-width: 0;\n",
       "  overflow: hidden;\n",
       "  text-align: left;\n",
       "  /* unfitted */\n",
       "  background-color: var(--sklearn-color-unfitted-level-0);\n",
       "}\n",
       "\n",
       "#sk-container-id-1 div.sk-toggleable__content.fitted {\n",
       "  /* fitted */\n",
       "  background-color: var(--sklearn-color-fitted-level-0);\n",
       "}\n",
       "\n",
       "#sk-container-id-1 div.sk-toggleable__content pre {\n",
       "  margin: 0.2em;\n",
       "  border-radius: 0.25em;\n",
       "  color: var(--sklearn-color-text);\n",
       "  /* unfitted */\n",
       "  background-color: var(--sklearn-color-unfitted-level-0);\n",
       "}\n",
       "\n",
       "#sk-container-id-1 div.sk-toggleable__content.fitted pre {\n",
       "  /* unfitted */\n",
       "  background-color: var(--sklearn-color-fitted-level-0);\n",
       "}\n",
       "\n",
       "#sk-container-id-1 input.sk-toggleable__control:checked~div.sk-toggleable__content {\n",
       "  /* Expand drop-down */\n",
       "  max-height: 200px;\n",
       "  max-width: 100%;\n",
       "  overflow: auto;\n",
       "}\n",
       "\n",
       "#sk-container-id-1 input.sk-toggleable__control:checked~label.sk-toggleable__label-arrow:before {\n",
       "  content: \"▾\";\n",
       "}\n",
       "\n",
       "/* Pipeline/ColumnTransformer-specific style */\n",
       "\n",
       "#sk-container-id-1 div.sk-label input.sk-toggleable__control:checked~label.sk-toggleable__label {\n",
       "  color: var(--sklearn-color-text);\n",
       "  background-color: var(--sklearn-color-unfitted-level-2);\n",
       "}\n",
       "\n",
       "#sk-container-id-1 div.sk-label.fitted input.sk-toggleable__control:checked~label.sk-toggleable__label {\n",
       "  background-color: var(--sklearn-color-fitted-level-2);\n",
       "}\n",
       "\n",
       "/* Estimator-specific style */\n",
       "\n",
       "/* Colorize estimator box */\n",
       "#sk-container-id-1 div.sk-estimator input.sk-toggleable__control:checked~label.sk-toggleable__label {\n",
       "  /* unfitted */\n",
       "  background-color: var(--sklearn-color-unfitted-level-2);\n",
       "}\n",
       "\n",
       "#sk-container-id-1 div.sk-estimator.fitted input.sk-toggleable__control:checked~label.sk-toggleable__label {\n",
       "  /* fitted */\n",
       "  background-color: var(--sklearn-color-fitted-level-2);\n",
       "}\n",
       "\n",
       "#sk-container-id-1 div.sk-label label.sk-toggleable__label,\n",
       "#sk-container-id-1 div.sk-label label {\n",
       "  /* The background is the default theme color */\n",
       "  color: var(--sklearn-color-text-on-default-background);\n",
       "}\n",
       "\n",
       "/* On hover, darken the color of the background */\n",
       "#sk-container-id-1 div.sk-label:hover label.sk-toggleable__label {\n",
       "  color: var(--sklearn-color-text);\n",
       "  background-color: var(--sklearn-color-unfitted-level-2);\n",
       "}\n",
       "\n",
       "/* Label box, darken color on hover, fitted */\n",
       "#sk-container-id-1 div.sk-label.fitted:hover label.sk-toggleable__label.fitted {\n",
       "  color: var(--sklearn-color-text);\n",
       "  background-color: var(--sklearn-color-fitted-level-2);\n",
       "}\n",
       "\n",
       "/* Estimator label */\n",
       "\n",
       "#sk-container-id-1 div.sk-label label {\n",
       "  font-family: monospace;\n",
       "  font-weight: bold;\n",
       "  display: inline-block;\n",
       "  line-height: 1.2em;\n",
       "}\n",
       "\n",
       "#sk-container-id-1 div.sk-label-container {\n",
       "  text-align: center;\n",
       "}\n",
       "\n",
       "/* Estimator-specific */\n",
       "#sk-container-id-1 div.sk-estimator {\n",
       "  font-family: monospace;\n",
       "  border: 1px dotted var(--sklearn-color-border-box);\n",
       "  border-radius: 0.25em;\n",
       "  box-sizing: border-box;\n",
       "  margin-bottom: 0.5em;\n",
       "  /* unfitted */\n",
       "  background-color: var(--sklearn-color-unfitted-level-0);\n",
       "}\n",
       "\n",
       "#sk-container-id-1 div.sk-estimator.fitted {\n",
       "  /* fitted */\n",
       "  background-color: var(--sklearn-color-fitted-level-0);\n",
       "}\n",
       "\n",
       "/* on hover */\n",
       "#sk-container-id-1 div.sk-estimator:hover {\n",
       "  /* unfitted */\n",
       "  background-color: var(--sklearn-color-unfitted-level-2);\n",
       "}\n",
       "\n",
       "#sk-container-id-1 div.sk-estimator.fitted:hover {\n",
       "  /* fitted */\n",
       "  background-color: var(--sklearn-color-fitted-level-2);\n",
       "}\n",
       "\n",
       "/* Specification for estimator info (e.g. \"i\" and \"?\") */\n",
       "\n",
       "/* Common style for \"i\" and \"?\" */\n",
       "\n",
       ".sk-estimator-doc-link,\n",
       "a:link.sk-estimator-doc-link,\n",
       "a:visited.sk-estimator-doc-link {\n",
       "  float: right;\n",
       "  font-size: smaller;\n",
       "  line-height: 1em;\n",
       "  font-family: monospace;\n",
       "  background-color: var(--sklearn-color-background);\n",
       "  border-radius: 1em;\n",
       "  height: 1em;\n",
       "  width: 1em;\n",
       "  text-decoration: none !important;\n",
       "  margin-left: 0.5em;\n",
       "  text-align: center;\n",
       "  /* unfitted */\n",
       "  border: var(--sklearn-color-unfitted-level-1) 1pt solid;\n",
       "  color: var(--sklearn-color-unfitted-level-1);\n",
       "}\n",
       "\n",
       ".sk-estimator-doc-link.fitted,\n",
       "a:link.sk-estimator-doc-link.fitted,\n",
       "a:visited.sk-estimator-doc-link.fitted {\n",
       "  /* fitted */\n",
       "  border: var(--sklearn-color-fitted-level-1) 1pt solid;\n",
       "  color: var(--sklearn-color-fitted-level-1);\n",
       "}\n",
       "\n",
       "/* On hover */\n",
       "div.sk-estimator:hover .sk-estimator-doc-link:hover,\n",
       ".sk-estimator-doc-link:hover,\n",
       "div.sk-label-container:hover .sk-estimator-doc-link:hover,\n",
       ".sk-estimator-doc-link:hover {\n",
       "  /* unfitted */\n",
       "  background-color: var(--sklearn-color-unfitted-level-3);\n",
       "  color: var(--sklearn-color-background);\n",
       "  text-decoration: none;\n",
       "}\n",
       "\n",
       "div.sk-estimator.fitted:hover .sk-estimator-doc-link.fitted:hover,\n",
       ".sk-estimator-doc-link.fitted:hover,\n",
       "div.sk-label-container:hover .sk-estimator-doc-link.fitted:hover,\n",
       ".sk-estimator-doc-link.fitted:hover {\n",
       "  /* fitted */\n",
       "  background-color: var(--sklearn-color-fitted-level-3);\n",
       "  color: var(--sklearn-color-background);\n",
       "  text-decoration: none;\n",
       "}\n",
       "\n",
       "/* Span, style for the box shown on hovering the info icon */\n",
       ".sk-estimator-doc-link span {\n",
       "  display: none;\n",
       "  z-index: 9999;\n",
       "  position: relative;\n",
       "  font-weight: normal;\n",
       "  right: .2ex;\n",
       "  padding: .5ex;\n",
       "  margin: .5ex;\n",
       "  width: min-content;\n",
       "  min-width: 20ex;\n",
       "  max-width: 50ex;\n",
       "  color: var(--sklearn-color-text);\n",
       "  box-shadow: 2pt 2pt 4pt #999;\n",
       "  /* unfitted */\n",
       "  background: var(--sklearn-color-unfitted-level-0);\n",
       "  border: .5pt solid var(--sklearn-color-unfitted-level-3);\n",
       "}\n",
       "\n",
       ".sk-estimator-doc-link.fitted span {\n",
       "  /* fitted */\n",
       "  background: var(--sklearn-color-fitted-level-0);\n",
       "  border: var(--sklearn-color-fitted-level-3);\n",
       "}\n",
       "\n",
       ".sk-estimator-doc-link:hover span {\n",
       "  display: block;\n",
       "}\n",
       "\n",
       "/* \"?\"-specific style due to the `<a>` HTML tag */\n",
       "\n",
       "#sk-container-id-1 a.estimator_doc_link {\n",
       "  float: right;\n",
       "  font-size: 1rem;\n",
       "  line-height: 1em;\n",
       "  font-family: monospace;\n",
       "  background-color: var(--sklearn-color-background);\n",
       "  border-radius: 1rem;\n",
       "  height: 1rem;\n",
       "  width: 1rem;\n",
       "  text-decoration: none;\n",
       "  /* unfitted */\n",
       "  color: var(--sklearn-color-unfitted-level-1);\n",
       "  border: var(--sklearn-color-unfitted-level-1) 1pt solid;\n",
       "}\n",
       "\n",
       "#sk-container-id-1 a.estimator_doc_link.fitted {\n",
       "  /* fitted */\n",
       "  border: var(--sklearn-color-fitted-level-1) 1pt solid;\n",
       "  color: var(--sklearn-color-fitted-level-1);\n",
       "}\n",
       "\n",
       "/* On hover */\n",
       "#sk-container-id-1 a.estimator_doc_link:hover {\n",
       "  /* unfitted */\n",
       "  background-color: var(--sklearn-color-unfitted-level-3);\n",
       "  color: var(--sklearn-color-background);\n",
       "  text-decoration: none;\n",
       "}\n",
       "\n",
       "#sk-container-id-1 a.estimator_doc_link.fitted:hover {\n",
       "  /* fitted */\n",
       "  background-color: var(--sklearn-color-fitted-level-3);\n",
       "}\n",
       "</style><div id=\"sk-container-id-1\" class=\"sk-top-container\"><div class=\"sk-text-repr-fallback\"><pre>MultinomialNB()</pre><b>In a Jupyter environment, please rerun this cell to show the HTML representation or trust the notebook. <br />On GitHub, the HTML representation is unable to render, please try loading this page with nbviewer.org.</b></div><div class=\"sk-container\" hidden><div class=\"sk-item\"><div class=\"sk-estimator fitted sk-toggleable\"><input class=\"sk-toggleable__control sk-hidden--visually\" id=\"sk-estimator-id-1\" type=\"checkbox\" checked><label for=\"sk-estimator-id-1\" class=\"sk-toggleable__label fitted sk-toggleable__label-arrow\"><div><div>MultinomialNB</div></div><div><a class=\"sk-estimator-doc-link fitted\" rel=\"noreferrer\" target=\"_blank\" href=\"https://scikit-learn.org/1.6/modules/generated/sklearn.naive_bayes.MultinomialNB.html\">?<span>Documentation for MultinomialNB</span></a><span class=\"sk-estimator-doc-link fitted\">i<span>Fitted</span></span></div></label><div class=\"sk-toggleable__content fitted\"><pre>MultinomialNB()</pre></div> </div></div></div></div>"
      ],
      "text/plain": [
       "MultinomialNB()"
      ]
     },
     "execution_count": 23,
     "metadata": {},
     "output_type": "execute_result"
    }
   ],
   "source": [
    "# Model training\n",
    "NB_model.fit(X_train, y_train)"
   ]
  },
  {
   "cell_type": "code",
   "execution_count": 24,
   "id": "7f28e40f-c6fd-4f3d-87fc-0031d383dd77",
   "metadata": {},
   "outputs": [],
   "source": [
    "# Model saving\n",
    "dump(NB_model, open(\"NB_model.pkl\", 'wb'))"
   ]
  },
  {
   "cell_type": "code",
   "execution_count": 25,
   "id": "c9abeeb7-fe1d-4400-8619-1aef77721d8f",
   "metadata": {},
   "outputs": [],
   "source": [
    "# Model predictions on test set\n",
    "y_pred = NB_model.predict(X_test)"
   ]
  },
  {
   "cell_type": "code",
   "execution_count": 26,
   "id": "0c52f1c5-677f-4a49-9bbf-e5e715073a9a",
   "metadata": {},
   "outputs": [
    {
     "data": {
      "text/plain": [
       "90.34240561896401"
      ]
     },
     "execution_count": 26,
     "metadata": {},
     "output_type": "execute_result"
    }
   ],
   "source": [
    "# Model Evaluation | Accuracy\n",
    "accuracy = accuracy_score(y_test, y_pred)\n",
    "accuracy * 100"
   ]
  },
  {
   "cell_type": "code",
   "execution_count": 27,
   "id": "454a267e-4a91-48dd-83a7-28f9eafc9e3d",
   "metadata": {},
   "outputs": [
    {
     "data": {
      "text/plain": [
       "'              precision    recall  f1-score   support\\n\\n           0       0.89      1.00      0.94       870\\n           1       0.99      0.59      0.74       269\\n\\n    accuracy                           0.90      1139\\n   macro avg       0.94      0.80      0.84      1139\\nweighted avg       0.91      0.90      0.89      1139\\n'"
      ]
     },
     "execution_count": 27,
     "metadata": {},
     "output_type": "execute_result"
    }
   ],
   "source": [
    "# Model Evaluation | Classification report\n",
    "classification_report(y_test, y_pred)"
   ]
  },
  {
   "cell_type": "code",
   "execution_count": 28,
   "id": "425f8979-ed7b-4ca2-86b1-a643d8068850",
   "metadata": {},
   "outputs": [
    {
     "data": {
      "image/png": "[encoded data removed]",
      "text/plain": [
       "<Figure size 640x480 with 2 Axes>"
      ]
     },
     "metadata": {},
     "output_type": "display_data"
    }
   ],
   "source": [
    "# Model Evaluation | Confusion matrix\n",
    "cm = confusion_matrix(y_test, y_pred)\n",
    "plt.figure(dpi=100)\n",
    "sns.heatmap(cm, annot=True)\n",
    "plt.title(\"Confusion matrix\")\n",
    "plt.show()"
   ]
  },
  {
   "cell_type": "code",
   "execution_count": 29,
   "id": "38aafcfa-a96c-4084-a909-724588e1d0da",
   "metadata": {},
   "outputs": [
    {
     "name": "stdout",
     "output_type": "stream",
     "text": [
      "SVM Model Accuracy: 97.54%\n"
     ]
    }
   ],
   "source": [
    "# Use Support Vector Machine (SVM) for spam detection\n",
    "from sklearn.svm import SVC\n",
    "from sklearn.pipeline import make_pipeline\n",
    "from sklearn.preprocessing import StandardScaler\n",
    "\n",
    "# Create and train the SVM model\n",
    "svm_model = make_pipeline(StandardScaler(with_mean=False), SVC(probability=True, kernel='linear'))\n",
    "svm_model.fit(X_train, y_train)\n",
    "\n",
    "# Evaluate the SVM model\n",
    "svm_predictions = svm_model.predict(X_test)\n",
    "svm_accuracy = accuracy_score(y_test, svm_predictions)\n",
    "print(f\"SVM Model Accuracy: {svm_accuracy * 100:.2f}%\")"
   ]
  },
  {
   "cell_type": "code",
   "execution_count": 30,
   "id": "0d3f9fd1-abf1-429f-9985-8dd7e25dc06c",
   "metadata": {},
   "outputs": [],
   "source": [
    "dump(svm_model, open(\"SVM_model.pkl\", 'wb'))"
   ]
  },
  {
   "cell_type": "code",
   "execution_count": 31,
   "id": "bca99bad-f5ae-419f-bd2a-b7c047a6272e",
   "metadata": {},
   "outputs": [
    {
     "name": "stdout",
     "output_type": "stream",
     "text": [
      "Logistic Regression Model Accuracy: 97.10%\n"
     ]
    }
   ],
   "source": [
    "# Use Logistic Regression for spam detection\n",
    "from sklearn.linear_model import LogisticRegression\n",
    "\n",
    "# Create and train the Logistic Regression model\n",
    "logistic_model = LogisticRegression(max_iter=1000)\n",
    "logistic_model.fit(X_train, y_train)\n",
    "\n",
    "# Evaluate the Logistic Regression model\n",
    "logistic_predictions = logistic_model.predict(X_test)\n",
    "logistic_accuracy = accuracy_score(y_test, logistic_predictions)\n",
    "print(f\"Logistic Regression Model Accuracy: {logistic_accuracy * 100:.2f}%\")"
   ]
  },
  {
   "cell_type": "code",
   "execution_count": 32,
   "id": "5344a186-9fa7-42d3-8403-e2ecc9efb728",
   "metadata": {},
   "outputs": [],
   "source": [
    "dump(logistic_model, open(\"LOGISTIC_model.pkl\", 'wb'))"
   ]
  },
  {
   "cell_type": "code",
   "execution_count": 33,
   "id": "12c9f0cc-bb49-4ad6-90db-bf53bdef9878",
   "metadata": {},
   "outputs": [
    {
     "name": "stdout",
     "output_type": "stream",
     "text": [
      "Random Forest Model Accuracy: 96.84%\n"
     ]
    }
   ],
   "source": [
    "# Use Random Forest for spam detection\n",
    "from sklearn.ensemble import RandomForestClassifier\n",
    "\n",
    "# Create and train the Random Forest model\n",
    "random_forest_model = RandomForestClassifier(n_estimators=100, random_state=0)\n",
    "random_forest_model.fit(X_train, y_train)\n",
    "\n",
    "# Evaluate the Random Forest model\n",
    "rf_predictions = random_forest_model.predict(X_test)\n",
    "rf_accuracy = accuracy_score(y_test, rf_predictions)\n",
    "print(f\"Random Forest Model Accuracy: {rf_accuracy * 100:.2f}%\")"
   ]
  },
  {
   "cell_type": "code",
   "execution_count": 34,
   "id": "8b402bb4-3894-4e99-9bc2-06326bcab5a1",
   "metadata": {},
   "outputs": [],
   "source": [
    "dump(random_forest_model, open(\"RANDOM_FOREST_model.pkl\", 'wb'))"
   ]
  },
  {
   "cell_type": "code",
   "execution_count": 35,
   "id": "ae023b65-16fd-4a08-98cb-2f3e83264e73",
   "metadata": {},
   "outputs": [
    {
     "name": "stdout",
     "output_type": "stream",
     "text": [
      "Epoch 1/5\n"
     ]
    },
    {
     "name": "stderr",
     "output_type": "stream",
     "text": [
      "c:\\Users\\RAVI\\AppData\\Local\\Programs\\Python\\Python312\\Lib\\site-packages\\keras\\src\\layers\\core\\embedding.py:90: UserWarning: Argument `input_length` is deprecated. Just remove it.\n",
      "  warnings.warn(\n"
     ]
    },
    {
     "name": "stdout",
     "output_type": "stream",
     "text": [
      "\u001b[1m143/143\u001b[0m \u001b[32m━━━━━━━━━━━━━━━━━━━━\u001b[0m\u001b[37m\u001b[0m \u001b[1m14s\u001b[0m 67ms/step - accuracy: 0.8015 - loss: 0.4337 - val_accuracy: 0.9772 - val_loss: 0.0909\n",
      "Epoch 2/5\n",
      "\u001b[1m143/143\u001b[0m \u001b[32m━━━━━━━━━━━━━━━━━━━━\u001b[0m\u001b[37m\u001b[0m \u001b[1m11s\u001b[0m 73ms/step - accuracy: 0.9745 - loss: 0.0872 - val_accuracy: 0.9842 - val_loss: 0.0504\n",
      "Epoch 3/5\n",
      "\u001b[1m143/143\u001b[0m \u001b[32m━━━━━━━━━━━━━━━━━━━━\u001b[0m\u001b[37m\u001b[0m \u001b[1m10s\u001b[0m 69ms/step - accuracy: 0.9941 - loss: 0.0243 - val_accuracy: 0.9903 - val_loss: 0.0250\n",
      "Epoch 4/5\n",
      "\u001b[1m143/143\u001b[0m \u001b[32m━━━━━━━━━━━━━━━━━━━━\u001b[0m\u001b[37m\u001b[0m \u001b[1m12s\u001b[0m 85ms/step - accuracy: 0.9984 - loss: 0.0078 - val_accuracy: 0.9930 - val_loss: 0.0196\n",
      "Epoch 5/5\n",
      "\u001b[1m143/143\u001b[0m \u001b[32m━━━━━━━━━━━━━━━━━━━━\u001b[0m\u001b[37m\u001b[0m \u001b[1m13s\u001b[0m 87ms/step - accuracy: 0.9992 - loss: 0.0039 - val_accuracy: 0.9939 - val_loss: 0.0224\n",
      "\u001b[1m36/36\u001b[0m \u001b[32m━━━━━━━━━━━━━━━━━━━━\u001b[0m\u001b[37m\u001b[0m \u001b[1m1s\u001b[0m 25ms/step - accuracy: 0.9916 - loss: 0.0261\n",
      "LSTM Model Accuracy: 99.39%\n"
     ]
    }
   ],
   "source": [
    "# Use LSTM for spam detection\n",
    "from tensorflow.keras.models import Sequential\n",
    "from tensorflow.keras.layers import Embedding, LSTM, Dense, Dropout\n",
    "from tensorflow.keras.preprocessing.text import Tokenizer\n",
    "from tensorflow.keras.preprocessing.sequence import pad_sequences\n",
    "\n",
    "# Tokenize and pad the dataset\n",
    "tokenizer = Tokenizer(num_words=5000)\n",
    "tokenizer.fit_on_texts(dataset['text'])\n",
    "X = tokenizer.texts_to_sequences(dataset['text'])\n",
    "X = pad_sequences(X, maxlen=100)\n",
    "y = dataset['spam']\n",
    "\n",
    "# Split the data into training and testing sets\n",
    "from sklearn.model_selection import train_test_split\n",
    "X_train, X_test, y_train, y_test = train_test_split(X, y, test_size=0.2, random_state=0)\n",
    "\n",
    "# Create the LSTM model\n",
    "lstm_model = Sequential([\n",
    "    Embedding(input_dim=5000, output_dim=64, input_length=100),\n",
    "    LSTM(128, return_sequences=False),\n",
    "    Dropout(0.2),\n",
    "    Dense(1, activation='sigmoid')\n",
    "])\n",
    "\n",
    "# Compile the model\n",
    "lstm_model.compile(optimizer='adam', loss='binary_crossentropy', metrics=['accuracy'])\n",
    "\n",
    "# Train the model\n",
    "lstm_model.fit(X_train, y_train, epochs=5, batch_size=32, validation_data=(X_test, y_test))\n",
    "\n",
    "# Evaluate the LSTM model\n",
    "lstm_loss, lstm_accuracy = lstm_model.evaluate(X_test, y_test)\n",
    "print(f\"LSTM Model Accuracy: {lstm_accuracy * 100:.2f}%\")"
   ]
  },
  {
   "cell_type": "code",
   "execution_count": 36,
   "id": "5dcd0ca0-0856-47e9-805c-2f87e16c1c51",
   "metadata": {},
   "outputs": [],
   "source": [
    "dump(lstm_model, open(\"lstm_model.pkl\", 'wb'))"
   ]
  },
  {
   "cell_type": "code",
   "execution_count": 37,
   "id": "59cc65b9-471e-4295-8bdb-787cd4376dd6",
   "metadata": {},
   "outputs": [],
   "source": [
    "# Read an external text file and predict if it's spam or not\n",
    "file_path =r\"C:\\Users\\RAVI\\OneDrive\\Desktop\\Final AI LAB Project\\test\\spam\\test1.txt\"\n",
    "with open(file_path, 'r') as file:\n",
    "    email_content = file.read()\n",
    "email_vectorized_spam = tfidf_vectorizer.transform([email_content])"
   ]
  },
  {
   "cell_type": "code",
   "execution_count": 38,
   "id": "7b0e7169-ca7f-458d-a0e9-4989477658ba",
   "metadata": {},
   "outputs": [
    {
     "name": "stdout",
     "output_type": "stream",
     "text": [
      "\n",
      "Non-zero elements:\n",
      "<Compressed Sparse Row sparse matrix of dtype 'float64'\n",
      "\twith 28 stored elements and shape (1, 37229)>\n",
      "  Coords\tValues\n",
      "  (0, 916)\t0.11836307701257105\n",
      "  (0, 3638)\t0.03704089180682669\n",
      "  (0, 6072)\t0.1722515250979866\n",
      "  (0, 6790)\t0.29773770868195304\n",
      "  (0, 10011)\t0.13469002723719625\n",
      "  (0, 11123)\t0.18426697697710606\n",
      "  (0, 11430)\t0.1374210880946551\n",
      "  (0, 13718)\t0.2852744769692658\n",
      "  (0, 14069)\t0.2653095659013681\n",
      "  (0, 15429)\t0.13932618167355798\n",
      "  (0, 15459)\t0.1915081757384203\n",
      "  (0, 16946)\t0.10737265203730167\n",
      "  (0, 21059)\t0.19843028030507393\n",
      "  (0, 23153)\t0.14824033652944105\n",
      "  (0, 23269)\t0.12403402671674615\n",
      "  (0, 24530)\t0.13326520189084284\n",
      "  (0, 25242)\t0.18946119683666235\n",
      "  (0, 26270)\t0.21553643253173918\n",
      "  (0, 26968)\t0.13040802570287555\n",
      "  (0, 28057)\t0.13514676411914564\n",
      "  (0, 28879)\t0.16520732787181372\n",
      "  (0, 30288)\t0.18867306302284576\n",
      "  (0, 30334)\t0.11073405746747421\n",
      "  (0, 32483)\t0.21099513318385138\n",
      "  (0, 33905)\t0.15358121408802536\n",
      "  (0, 34048)\t0.17077950788411222\n",
      "  (0, 34268)\t0.2852744769692658\n",
      "  (0, 34855)\t0.3316779345449017\n"
     ]
    }
   ],
   "source": [
    "# Display non-zero elements with their indices\n",
    "print(\"\\nNon-zero elements:\")\n",
    "print(email_vectorized_spam)"
   ]
  },
  {
   "cell_type": "code",
   "execution_count": 39,
   "id": "61203ed3-8e69-41b9-aa68-1bc9e6bf5083",
   "metadata": {},
   "outputs": [
    {
     "name": "stdout",
     "output_type": "stream",
     "text": [
      "The word 'bank' appears with a frequency of 0.1722515250979866.\n"
     ]
    }
   ],
   "source": [
    "# Check the frequency of a specific word in the vectorized email\n",
    "word = 'bank' \n",
    "if word in tfidf_vectorizer.vocabulary_:\n",
    "    word_index = tfidf_vectorizer.vocabulary_[word]\n",
    "    frequency = email_vectorized_spam.toarray()[0][word_index]\n",
    "    print(f\"The word '{word}' appears with a frequency of {frequency}.\")\n",
    "else:\n",
    "    print(f\"The word '{word}' is not in the vocabulary.\")"
   ]
  },
  {
   "cell_type": "code",
   "execution_count": 40,
   "id": "25254225-1e21-477b-90cf-d7733dde3ea2",
   "metadata": {},
   "outputs": [
    {
     "name": "stdout",
     "output_type": "stream",
     "text": [
      "['Subject', 'Urgent', 'Assistance', 'Required', 'â€“', 'Immediate', 'Transfer', 'Dear', 'Beneficiary', 'Prince', 'Adewale', 'Royal', 'House', 'Lagos', 'Due', 'political', 'unrest', 'must', 'transfer', '12500000', 'Nigeria', 'selected', 'trustworthy', 'partner', 'help', 'receive', '20', 'total', 'sum', 'Kindly', 'send', 'bank', 'details', 'full', 'name', 'ID', 'copy', 'expedite', 'process', 'Time', 'essence', 'â€“', 'delay', 'result', 'lost', 'funds', 'God', 'blessed', 'opportunity', 'Sincerely', 'Prince', 'Adewale', 'Ibukun', 'royaltrustnigeriagovorg']\n"
     ]
    }
   ],
   "source": [
    "print(process(email_content))"
   ]
  },
  {
   "cell_type": "code",
   "execution_count": 48,
   "id": "94033588-bb04-45e7-8633-9e21eef79fd1",
   "metadata": {},
   "outputs": [
    {
     "name": "stdout",
     "output_type": "stream",
     "text": [
      "Not Spam\n"
     ]
    }
   ],
   "source": [
    "import pickle\n",
    "\n",
    "# Load the Naive Bayes model from the .pkl file\n",
    "with open('NB_model.pkl', 'rb') as f:\n",
    "    NB_model = pickle.load(f)\n",
    "\n",
    "# Predict using the loaded model\n",
    "NB_prediction = NB_model.predict(email_vectorized_spam)\n",
    "\n",
    "# Display result\n",
    "print(\"Spam\" if NB_prediction[0] == 1 else \"Not Spam\")"
   ]
  },
  {
   "cell_type": "code",
   "execution_count": 50,
   "id": "5c7c9b0d-c939-417a-993c-fe01fab8b5b7",
   "metadata": {},
   "outputs": [
    {
     "name": "stdout",
     "output_type": "stream",
     "text": [
      "Spam\n"
     ]
    }
   ],
   "source": [
    "import pickle\n",
    "\n",
    "# Load the SVM model from the .pkl file\n",
    "with open('SVM_model.pkl', 'rb') as f:\n",
    "    svm_model = pickle.load(f)\n",
    "\n",
    "# Predict using the loaded SVM model\n",
    "svm_email_prediction = svm_model.predict(email_vectorized_spam)\n",
    "\n",
    "# Display result\n",
    "print(\"Spam\" if svm_email_prediction[0] == 1 else \"Not Spam\")\n"
   ]
  },
  {
   "cell_type": "code",
   "execution_count": 51,
   "id": "11fade48-ec26-4c59-a584-f510cd5f8270",
   "metadata": {},
   "outputs": [
    {
     "name": "stdout",
     "output_type": "stream",
     "text": [
      "Spam\n"
     ]
    }
   ],
   "source": [
    "import pickle\n",
    "\n",
    "# Load the Logistic Regression model from the .pkl file\n",
    "with open('LOGISTIC_model.pkl', 'rb') as f:\n",
    "    logistic_model = pickle.load(f)\n",
    "\n",
    "# Predict using the loaded model\n",
    "logistic_email_prediction = logistic_model.predict(email_vectorized_spam)\n",
    "\n",
    "# Display result\n",
    "print(\"Spam\" if logistic_email_prediction[0] == 1 else \"Not Spam\")\n"
   ]
  },
  {
   "cell_type": "code",
   "execution_count": 52,
   "id": "fdc22b29-53fb-49eb-8c7b-69620e8d5006",
   "metadata": {},
   "outputs": [
    {
     "name": "stdout",
     "output_type": "stream",
     "text": [
      "Not Spam\n"
     ]
    }
   ],
   "source": [
    "import pickle\n",
    "\n",
    "# Load the Random Forest model from the .pkl file\n",
    "with open('RANDOM_FOREST_model.pkl', 'rb') as f:\n",
    "    random_forest_model = pickle.load(f)\n",
    "\n",
    "# Predict using the loaded Random Forest model\n",
    "rf_email_prediction = random_forest_model.predict(email_vectorized_spam)\n",
    "\n",
    "# Display result\n",
    "print(\"Spam\" if rf_email_prediction[0] == 1 else \"Not Spam\")\n"
   ]
  },
  {
   "cell_type": "code",
   "execution_count": null,
   "id": "ba189d91-f8f7-4ada-9b50-60c8cc9f6b83",
   "metadata": {},
   "outputs": [
    {
     "name": "stdout",
     "output_type": "stream",
     "text": [
      "\u001b[1m36/36\u001b[0m \u001b[32m━━━━━━━━━━━━━━━━━━━━\u001b[0m\u001b[37m\u001b[0m \u001b[1m1s\u001b[0m 28ms/step - accuracy: 0.9855 - loss: 0.0553\n",
      "LSTM Model Accuracy: 98.42%\n",
      "\u001b[1m1/1\u001b[0m \u001b[32m━━━━━━━━━━━━━━━━━━━━\u001b[0m\u001b[37m\u001b[0m \u001b[1m0s\u001b[0m 170ms/step\n",
      "Not Spam\n"
     ]
    }
   ],
   "source": [
    "lstm_loss, lstm_accuracy = lstm_model.evaluate(X_test, y_test)\n",
    "print(f\"LSTM Model Accuracy: {lstm_accuracy * 100:.2f}%\")\n",
    "\n",
    "email_sequence = tokenizer.texts_to_sequences([email_content])\n",
    "email_padded = pad_sequences(email_sequence, maxlen=100)\n",
    "lstm_email_prediction = lstm_model.predict(email_padded)\n",
    "print(\"Spam\" if lstm_email_prediction[0][0] > 0.5 else \"Not Spam\")"
   ]
  },
  {
   "cell_type": "code",
   "execution_count": 53,
   "id": "e1fcb4e5-3a1b-4040-8c48-ab5910fde7c4",
   "metadata": {},
   "outputs": [],
   "source": [
    "# Read an external text file and predict if it's spam or not\n",
    "import pickle\n",
    "\n",
    "with open('vectorizer.pkl', 'rb') as f:\n",
    "    tfidf_vectorizer_k = pickle.load(f)\n",
    "\n",
    "# Step 2: Read the email content from the file\n",
    "file_path_ham = r\"C:\\Users\\RAVI\\OneDrive\\Desktop\\Final AI LAB Project\\test\\ham\\test1.txt\"\n",
    "with open(file_path, 'r', encoding='utf-8') as file:\n",
    "    email_content = file.read()\n",
    "\n",
    "# Step 3: Vectorize the email content using the loaded vectorizer\n",
    "email_vectorized_ham = tfidf_vectorizer.transform([email_content])"
   ]
  },
  {
   "cell_type": "code",
   "execution_count": 61,
   "id": "e7f48a69",
   "metadata": {},
   "outputs": [
    {
     "name": "stdout",
     "output_type": "stream",
     "text": [
      "\n",
      "Non-zero elements:\n",
      "<Compressed Sparse Row sparse matrix of dtype 'float64'\n",
      "\twith 35 stored elements and shape (1, 37229)>\n",
      "  Coords\tValues\n",
      "  (0, 3638)\t0.031781169580554415\n",
      "  (0, 7132)\t0.2276362121416487\n",
      "  (0, 8445)\t0.1233849356684998\n",
      "  (0, 8804)\t0.1488844449741745\n",
      "  (0, 9185)\t0.11510038338657348\n",
      "  (0, 10536)\t0.11667403004911026\n",
      "  (0, 10810)\t0.24966524023130748\n",
      "  (0, 11436)\t0.22509236127538929\n",
      "  (0, 11467)\t0.2554596325459668\n",
      "  (0, 12006)\t0.20985096788531746\n",
      "  (0, 14701)\t0.1412200327500817\n",
      "  (0, 14755)\t0.15118843681827648\n",
      "  (0, 14762)\t0.193616332110318\n",
      "  (0, 15931)\t0.10018231566644036\n",
      "  (0, 18477)\t0.24966524023130748\n",
      "  (0, 22082)\t0.11441689103141182\n",
      "  (0, 22204)\t0.2716942683209663\n",
      "  (0, 22675)\t0.11127191933451011\n",
      "  (0, 22715)\t0.20695977837511667\n",
      "  (0, 23455)\t0.08186657948107007\n",
      "  (0, 25248)\t0.18634347928987607\n",
      "  (0, 27080)\t0.11309248400022641\n",
      "  (0, 27625)\t0.15047953375609183\n",
      "  (0, 27954)\t0.1320335345231975\n",
      "  (0, 28642)\t0.129279111957063\n",
      "  (0, 32068)\t0.11419228819144059\n",
      "  (0, 33040)\t0.1995928519697146\n",
      "  (0, 33098)\t0.11013556298866127\n",
      "  (0, 33341)\t0.1587011486608758\n",
      "  (0, 33977)\t0.19747332208721205\n",
      "  (0, 34945)\t0.13100409490248843\n",
      "  (0, 34961)\t0.2716942683209663\n",
      "  (0, 35841)\t0.12880298066102486\n",
      "  (0, 36532)\t0.08729616030665696\n",
      "  (0, 36548)\t0.10226544668345282\n"
     ]
    }
   ],
   "source": [
    "# Display non-zero elements with their indices\n",
    "print(\"\\nNon-zero elements:\")\n",
    "print(email_vectorized_ham)"
   ]
  },
  {
   "cell_type": "code",
   "execution_count": 62,
   "id": "c941346e",
   "metadata": {},
   "outputs": [
    {
     "name": "stdout",
     "output_type": "stream",
     "text": [
      "['Subject', 'Update', 'AI', 'Project', 'Progress', 'Hey', 'team', 'wanted', 'give', 'quick', 'update', 'AI', 'project', 'finished', 'integrating', 'YOLOv8', 'model', 'detection', 'module', 'it’s', 'working', 'fine', 'test', 'dataset', 'still', 'need', 'work', 'reidentification', 'tracking', 'Let’s', 'meet', 'Thursday', 'class', 'divide', 'tasks', 'Please', 'come', 'parts', 'ready', 'merge', 'final', 'report', 'I’ve', 'uploaded', 'current', 'codebase', 'GitHub', '–', 'check', 'dev', 'branch', 'Cheers', 'Anika']\n"
     ]
    }
   ],
   "source": [
    "print(process(email_content))"
   ]
  },
  {
   "cell_type": "code",
   "execution_count": 54,
   "id": "8f3284df-c257-4859-9f08-03c614ee09e0",
   "metadata": {},
   "outputs": [
    {
     "name": "stdout",
     "output_type": "stream",
     "text": [
      "Not Spam\n"
     ]
    }
   ],
   "source": [
    "import pickle\n",
    "\n",
    "# Load the Naive Bayes model from the .pkl file\n",
    "with open('NB_model.pkl', 'rb') as f:\n",
    "    NB_model = pickle.load(f)\n",
    "\n",
    "# Predict using the loaded model\n",
    "NB_prediction = NB_model.predict(email_vectorized_ham)\n",
    "\n",
    "# Display result\n",
    "print(\"Spam\" if NB_prediction[0] == 1 else \"Not Spam\")"
   ]
  },
  {
   "cell_type": "code",
   "execution_count": 56,
   "id": "9dc5408f",
   "metadata": {},
   "outputs": [
    {
     "name": "stdout",
     "output_type": "stream",
     "text": [
      "Not Spam\n"
     ]
    }
   ],
   "source": [
    "import pickle\n",
    "\n",
    "# Load the SVM model from the .pkl file\n",
    "with open('SVM_model.pkl', 'rb') as f:\n",
    "    svm_model = pickle.load(f)\n",
    "\n",
    "# Predict using the loaded SVM model\n",
    "svm_email_prediction = svm_model.predict(email_vectorized_ham)\n",
    "\n",
    "# Display result\n",
    "print(\"Spam\" if svm_email_prediction[0] == 1 else \"Not Spam\")\n"
   ]
  },
  {
   "cell_type": "code",
   "execution_count": 58,
   "id": "a2524122",
   "metadata": {},
   "outputs": [
    {
     "name": "stdout",
     "output_type": "stream",
     "text": [
      "Not Spam\n"
     ]
    }
   ],
   "source": [
    "import pickle\n",
    "\n",
    "# Load the Logistic Regression model from the .pkl file\n",
    "with open('LOGISTIC_model.pkl', 'rb') as f:\n",
    "    logistic_model = pickle.load(f)\n",
    "\n",
    "# Predict using the loaded model\n",
    "logistic_email_prediction = logistic_model.predict(email_vectorized_ham)\n",
    "\n",
    "# Display result\n",
    "print(\"Spam\" if logistic_email_prediction[0] == 1 else \"Not Spam\")\n"
   ]
  },
  {
   "cell_type": "code",
   "execution_count": 59,
   "id": "e0c98c6f",
   "metadata": {},
   "outputs": [
    {
     "name": "stdout",
     "output_type": "stream",
     "text": [
      "Not Spam\n"
     ]
    }
   ],
   "source": [
    "import pickle\n",
    "\n",
    "# Load the Random Forest model from the .pkl file\n",
    "with open('RANDOM_FOREST_model.pkl', 'rb') as f:\n",
    "    random_forest_model = pickle.load(f)\n",
    "\n",
    "# Predict using the loaded Random Forest model\n",
    "rf_email_prediction = random_forest_model.predict(email_vectorized_ham)\n",
    "\n",
    "# Display result\n",
    "print(\"Spam\" if rf_email_prediction[0] == 1 else \"Not Spam\")"
   ]
  },
  {
   "cell_type": "code",
   "execution_count": null,
   "id": "1a9724db",
   "metadata": {},
   "outputs": [],
   "source": []
  }
 ],
 "metadata": {
  "kernelspec": {
   "display_name": "Python 3",
   "language": "python",
   "name": "python3"
  },
  "language_info": {
   "codemirror_mode": {
    "name": "ipython",
    "version": 3
   },
   "file_extension": ".py",
   "mimetype": "text/x-python",
   "name": "python",
   "nbconvert_exporter": "python",
   "pygments_lexer": "ipython3",
   "version": "3.12.5"
  }
 },
 "nbformat": 4,
 "nbformat_minor": 5
}
